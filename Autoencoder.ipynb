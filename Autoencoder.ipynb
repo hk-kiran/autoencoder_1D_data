{
  "nbformat": 4,
  "nbformat_minor": 0,
  "metadata": {
    "colab": {
      "name": "Autoencoder.ipynb",
      "provenance": [],
      "collapsed_sections": [],
      "authorship_tag": "ABX9TyNH12z8AB3wGTihz/qXasfn",
      "include_colab_link": true
    },
    "kernelspec": {
      "name": "python3",
      "display_name": "Python 3"
    },
    "accelerator": "GPU"
  },
  "cells": [
    {
      "cell_type": "markdown",
      "metadata": {
        "id": "view-in-github",
        "colab_type": "text"
      },
      "source": [
        "<a href=\"https://colab.research.google.com/github/hk-kiran/autoencoder_1D_data/blob/master/Autoencoder.ipynb\" target=\"_parent\"><img src=\"https://colab.research.google.com/assets/colab-badge.svg\" alt=\"Open In Colab\"/></a>"
      ]
    },
    {
      "cell_type": "code",
      "metadata": {
        "id": "0Sf8BItSGRa7",
        "colab_type": "code",
        "colab": {}
      },
      "source": [
        "import tensorflow as tf\n",
        "from tensorflow.keras.layers import Input, Add, Dense, Activation, ZeroPadding2D, BatchNormalization, Flatten, Conv2D, AveragePooling2D, MaxPooling2D, Dropout, UpSampling2D\n",
        "from tensorflow.keras import layers, models, regularizers\n",
        "from tensorflow.keras.preprocessing import image\n",
        "from tensorflow.keras.preprocessing.image import ImageDataGenerator\n",
        "from tensorflow.keras.models import Model\n",
        "from tensorflow.keras.optimizers import Adam, RMSprop\n",
        "from tensorflow.keras.initializers import glorot_uniform\n",
        "from tensorflow.keras.utils import to_categorical\n",
        "from sklearn.metrics import classification_report\n",
        "from sklearn.metrics import confusion_matrix,mean_squared_error\n",
        "from sklearn.utils import shuffle\n",
        "from sklearn.preprocessing import LabelEncoder\n",
        "from sklearn import preprocessing\n",
        "from sklearn.model_selection import train_test_split\n",
        "from termcolor import colored, cprint\n",
        "import matplotlib.pyplot as plt\n",
        "import matplotlib.image as mpimg\n",
        "import pandas as pd\n",
        "import matplotlib\n",
        "import scipy\n",
        "import numpy as np\n",
        "import math\n",
        "import datetime\n",
        "%matplotlib inline\n",
        "%load_ext tensorboard"
      ],
      "execution_count": null,
      "outputs": []
    },
    {
      "cell_type": "code",
      "metadata": {
        "id": "_TQ7r3DNUkQH",
        "colab_type": "code",
        "colab": {}
      },
      "source": [
        "testdata = pd.read_csv('test.csv')\n",
        "traindata = pd.read_csv('train.csv')\n",
        "\n",
        "le = LabelEncoder()\n",
        "le.fit(['WALKING_UPSTAIRS', 'SITTING', 'LAYING', 'WALKING_DOWNSTAIRS', 'WALKING', 'STANDING'])\n",
        "\n",
        "y_train = traindata[\"Activity\"]\n",
        "y_train = le.fit_transform(y_train)\n",
        "\n",
        "y_test = testdata[\"Activity\"]\n",
        "y_test = le.fit_transform(y_test)\n",
        "\n",
        "traindata = traindata.drop([\"Activity\"],axis = 1)\n",
        "train_set = traindata.drop([\"subject\"],axis = 1)\n",
        "testdata = testdata.drop([\"Activity\"],axis = 1)\n",
        "test_set = testdata.drop([\"subject\"],axis =1)\n",
        "\n",
        "x_train, x_val, y_train, y_val = train_test_split(train_set, y_train, test_size=0.3, random_state=42)"
      ],
      "execution_count": null,
      "outputs": []
    },
    {
      "cell_type": "code",
      "metadata": {
        "id": "Eon2BqnsQ8dV",
        "colab_type": "code",
        "colab": {}
      },
      "source": [
        "input_shape = 561\n",
        "encode = Input((input_shape,))\n",
        "#encoder\n",
        "layer1 = Dense(1024,activation='relu',activity_regularizer=regularizers.l2(10e-6))(encode)\n",
        "layer2 = Dense(512,activation='relu',activity_regularizer=regularizers.l2(10e-6))(layer1)\n",
        "layer3 = BatchNormalization()(layer2)\n",
        "layer4 = Dense(256,activation='relu',activity_regularizer=regularizers.l2(10e-6))(layer3)\n",
        "#max compression layer\n",
        "encoded = Dense(128,activation='relu',activity_regularizer=regularizers.l2(10e-6), name = 'encoded')(layer4)\n",
        "\n",
        "#decoder\n",
        "layer5 = Dense(256,activation='relu',activity_regularizer=regularizers.l2(10e-6))(encoded)\n",
        "layer6 = BatchNormalization()(layer5)\n",
        "layer6 = Dense(512,activation='relu',activity_regularizer=regularizers.l2(10e-6))(layer6)\n",
        "layer7 = Dense(1024,activation='relu',activity_regularizer=regularizers.l2(10e-6))(layer6)\n",
        "decode = Dense(input_shape,activation='tanh',name = 'decoded')(layer7)"
      ],
      "execution_count": null,
      "outputs": []
    },
    {
      "cell_type": "code",
      "metadata": {
        "id": "d66PA4_zSBow",
        "colab_type": "code",
        "colab": {}
      },
      "source": [
        "autoencoder = Model(encode, decode)\n",
        "autoencoder.compile(loss='mse', optimizer = 'adam')"
      ],
      "execution_count": null,
      "outputs": []
    },
    {
      "cell_type": "code",
      "metadata": {
        "id": "zy6mvWW_SETB",
        "colab_type": "code",
        "colab": {
          "base_uri": "https://localhost:8080/",
          "height": 538
        },
        "outputId": "2a2eab50-ab67-4ce8-ba49-5ff31720c830"
      },
      "source": [
        "autoencoder.summary()"
      ],
      "execution_count": null,
      "outputs": [
        {
          "output_type": "stream",
          "text": [
            "Model: \"model_1\"\n",
            "_________________________________________________________________\n",
            "Layer (type)                 Output Shape              Param #   \n",
            "=================================================================\n",
            "input_2 (InputLayer)         [(None, 561)]             0         \n",
            "_________________________________________________________________\n",
            "dense_7 (Dense)              (None, 1024)              575488    \n",
            "_________________________________________________________________\n",
            "dense_8 (Dense)              (None, 512)               524800    \n",
            "_________________________________________________________________\n",
            "batch_normalization_2 (Batch (None, 512)               2048      \n",
            "_________________________________________________________________\n",
            "dense_9 (Dense)              (None, 256)               131328    \n",
            "_________________________________________________________________\n",
            "encoded (Dense)              (None, 128)               32896     \n",
            "_________________________________________________________________\n",
            "dense_10 (Dense)             (None, 256)               33024     \n",
            "_________________________________________________________________\n",
            "batch_normalization_3 (Batch (None, 256)               1024      \n",
            "_________________________________________________________________\n",
            "dense_11 (Dense)             (None, 512)               131584    \n",
            "_________________________________________________________________\n",
            "dense_12 (Dense)             (None, 1024)              525312    \n",
            "_________________________________________________________________\n",
            "decoded (Dense)              (None, 561)               575025    \n",
            "=================================================================\n",
            "Total params: 2,532,529\n",
            "Trainable params: 2,530,993\n",
            "Non-trainable params: 1,536\n",
            "_________________________________________________________________\n"
          ],
          "name": "stdout"
        }
      ]
    },
    {
      "cell_type": "code",
      "metadata": {
        "id": "-OzCXNVNSJiQ",
        "colab_type": "code",
        "colab": {
          "base_uri": "https://localhost:8080/",
          "height": 1000
        },
        "outputId": "848ce924-a4ea-4c2a-9315-806fd766134a"
      },
      "source": [
        "!rm -rf ./logs/ \n",
        "log_dir = \"logs/fit/\" + datetime.datetime.now().strftime(\"%Y%m%d-%H%M%S\")\n",
        "tensorboard_callback = tf.keras.callbacks.TensorBoard(log_dir=log_dir, histogram_freq=1)\n",
        "\n",
        "autoencoder_train = autoencoder.fit(x_train, x_train, batch_size=32,epochs=40,validation_data=(x_val, x_val),callbacks=[tensorboard_callback])"
      ],
      "execution_count": null,
      "outputs": [
        {
          "output_type": "stream",
          "text": [
            "Epoch 1/40\n",
            "161/161 [==============================] - 2s 12ms/step - loss: 0.0481 - val_loss: 0.0818\n",
            "Epoch 2/40\n",
            "161/161 [==============================] - 2s 11ms/step - loss: 0.0263 - val_loss: 0.0343\n",
            "Epoch 3/40\n",
            "161/161 [==============================] - 2s 11ms/step - loss: 0.0223 - val_loss: 0.0307\n",
            "Epoch 4/40\n",
            "161/161 [==============================] - 2s 11ms/step - loss: 0.0205 - val_loss: 0.0224\n",
            "Epoch 5/40\n",
            "161/161 [==============================] - 2s 11ms/step - loss: 0.0191 - val_loss: 0.0229\n",
            "Epoch 6/40\n",
            "161/161 [==============================] - 2s 11ms/step - loss: 0.0178 - val_loss: 0.0247\n",
            "Epoch 7/40\n",
            "161/161 [==============================] - 2s 11ms/step - loss: 0.0176 - val_loss: 0.0273\n",
            "Epoch 8/40\n",
            "161/161 [==============================] - 2s 11ms/step - loss: 0.0173 - val_loss: 0.0216\n",
            "Epoch 9/40\n",
            "161/161 [==============================] - 2s 11ms/step - loss: 0.0163 - val_loss: 0.0315\n",
            "Epoch 10/40\n",
            "161/161 [==============================] - 2s 11ms/step - loss: 0.0161 - val_loss: 0.0201\n",
            "Epoch 11/40\n",
            "161/161 [==============================] - 2s 11ms/step - loss: 0.0155 - val_loss: 0.0227\n",
            "Epoch 12/40\n",
            "161/161 [==============================] - 2s 11ms/step - loss: 0.0152 - val_loss: 0.0225\n",
            "Epoch 13/40\n",
            "161/161 [==============================] - 2s 11ms/step - loss: 0.0147 - val_loss: 0.0226\n",
            "Epoch 14/40\n",
            "161/161 [==============================] - 2s 12ms/step - loss: 0.0144 - val_loss: 0.0169\n",
            "Epoch 15/40\n",
            "161/161 [==============================] - 2s 11ms/step - loss: 0.0140 - val_loss: 0.0250\n",
            "Epoch 16/40\n",
            "161/161 [==============================] - 2s 11ms/step - loss: 0.0138 - val_loss: 0.0192\n",
            "Epoch 17/40\n",
            "161/161 [==============================] - 2s 11ms/step - loss: 0.0133 - val_loss: 0.0171\n",
            "Epoch 18/40\n",
            "161/161 [==============================] - 2s 11ms/step - loss: 0.0128 - val_loss: 0.0197\n",
            "Epoch 19/40\n",
            "161/161 [==============================] - 2s 11ms/step - loss: 0.0128 - val_loss: 0.0191\n",
            "Epoch 20/40\n",
            "161/161 [==============================] - 2s 11ms/step - loss: 0.0128 - val_loss: 0.0276\n",
            "Epoch 21/40\n",
            "161/161 [==============================] - 2s 11ms/step - loss: 0.0128 - val_loss: 0.0208\n",
            "Epoch 22/40\n",
            "161/161 [==============================] - 2s 11ms/step - loss: 0.0124 - val_loss: 0.0170\n",
            "Epoch 23/40\n",
            "161/161 [==============================] - 2s 11ms/step - loss: 0.0122 - val_loss: 0.0171\n",
            "Epoch 24/40\n",
            "161/161 [==============================] - 2s 11ms/step - loss: 0.0123 - val_loss: 0.0198\n",
            "Epoch 25/40\n",
            "161/161 [==============================] - 2s 12ms/step - loss: 0.0122 - val_loss: 0.0164\n",
            "Epoch 26/40\n",
            "161/161 [==============================] - 2s 11ms/step - loss: 0.0118 - val_loss: 0.0209\n",
            "Epoch 27/40\n",
            "161/161 [==============================] - 2s 11ms/step - loss: 0.0110 - val_loss: 0.0170\n",
            "Epoch 28/40\n",
            "161/161 [==============================] - 2s 11ms/step - loss: 0.0113 - val_loss: 0.0180\n",
            "Epoch 29/40\n",
            "161/161 [==============================] - 2s 12ms/step - loss: 0.0110 - val_loss: 0.0170\n",
            "Epoch 30/40\n",
            "161/161 [==============================] - 2s 11ms/step - loss: 0.0111 - val_loss: 0.0228\n",
            "Epoch 31/40\n",
            "161/161 [==============================] - 2s 11ms/step - loss: 0.0108 - val_loss: 0.0170\n",
            "Epoch 32/40\n",
            "161/161 [==============================] - 2s 11ms/step - loss: 0.0104 - val_loss: 0.0216\n",
            "Epoch 33/40\n",
            "161/161 [==============================] - 2s 12ms/step - loss: 0.0102 - val_loss: 0.0161\n",
            "Epoch 34/40\n",
            "161/161 [==============================] - 2s 11ms/step - loss: 0.0098 - val_loss: 0.0171\n",
            "Epoch 35/40\n",
            "161/161 [==============================] - 2s 11ms/step - loss: 0.0097 - val_loss: 0.0166\n",
            "Epoch 36/40\n",
            "161/161 [==============================] - 2s 11ms/step - loss: 0.0098 - val_loss: 0.0156\n",
            "Epoch 37/40\n",
            "161/161 [==============================] - 2s 11ms/step - loss: 0.0107 - val_loss: 0.0224\n",
            "Epoch 38/40\n",
            "161/161 [==============================] - 2s 11ms/step - loss: 0.0106 - val_loss: 0.0183\n",
            "Epoch 39/40\n",
            "161/161 [==============================] - 2s 11ms/step - loss: 0.0095 - val_loss: 0.0197\n",
            "Epoch 40/40\n",
            "161/161 [==============================] - 2s 11ms/step - loss: 0.0092 - val_loss: 0.0196\n"
          ],
          "name": "stdout"
        }
      ]
    },
    {
      "cell_type": "code",
      "metadata": {
        "id": "yjt0uHxgs5T8",
        "colab_type": "code",
        "colab": {}
      },
      "source": [
        "%tensorboard --logdir logs/fit"
      ],
      "execution_count": null,
      "outputs": []
    },
    {
      "cell_type": "code",
      "metadata": {
        "id": "eUf0Fz2ySNdn",
        "colab_type": "code",
        "colab": {
          "base_uri": "https://localhost:8080/",
          "height": 281
        },
        "outputId": "bdbc7897-c423-4496-949a-86ed33ff3528"
      },
      "source": [
        "loss = autoencoder_train.history['loss']\n",
        "val_loss = autoencoder_train.history['val_loss']\n",
        "epochs = range(40)\n",
        "plt.figure()\n",
        "plt.plot(epochs, loss, 'r', label='Training loss')\n",
        "plt.plot(epochs, val_loss, 'b', label='Validation loss')\n",
        "plt.title('Training and validation loss')\n",
        "plt.legend()\n",
        "plt.show()"
      ],
      "execution_count": null,
      "outputs": [
        {
          "output_type": "display_data",
          "data": {
            "image/png": "[encoded data removed]",
            "text/plain": [
              "<Figure size 432x288 with 1 Axes>"
            ]
          },
          "metadata": {
            "tags": [],
            "needs_background": "light"
          }
        }
      ]
    },
    {
      "cell_type": "code",
      "metadata": {
        "id": "aP51AdrKICIp",
        "colab_type": "code",
        "colab": {}
      },
      "source": [
        ""
      ],
      "execution_count": null,
      "outputs": []
    },
    {
      "cell_type": "code",
      "metadata": {
        "id": "8FPTfERW-QYe",
        "colab_type": "code",
        "colab": {
          "base_uri": "https://localhost:8080/",
          "height": 34
        },
        "outputId": "55bde30b-ccf8-4d02-96de-6ba1b03394f7"
      },
      "source": [
        "np.max(abs(pred-test_set.to_numpy()))"
      ],
      "execution_count": null,
      "outputs": [
        {
          "output_type": "execute_result",
          "data": {
            "text/plain": [
              "1.9448009374739075"
            ]
          },
          "metadata": {
            "tags": []
          },
          "execution_count": 10
        }
      ]
    },
    {
      "cell_type": "code",
      "metadata": {
        "id": "a9RKHOto9pUA",
        "colab_type": "code",
        "colab": {
          "base_uri": "https://localhost:8080/",
          "height": 34
        },
        "outputId": "c01e0332-62dd-438c-b670-fe63b2abad10"
      },
      "source": [
        "mean_squared_error(test_set,pred)"
      ],
      "execution_count": null,
      "outputs": [
        {
          "output_type": "execute_result",
          "data": {
            "text/plain": [
              "0.02196770298655781"
            ]
          },
          "metadata": {
            "tags": []
          },
          "execution_count": 11
        }
      ]
    }
  ]
}